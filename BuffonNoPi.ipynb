{
 "cells": [
  {
   "cell_type": "code",
   "execution_count": 30,
   "id": "fa118272-1e25-44a3-b73f-bcb138533a78",
   "metadata": {},
   "outputs": [],
   "source": [
    "import numpy as np\n",
    "import matplotlib.pyplot as plt\n",
    "from scipy.optimize import curve_fit\n",
    "\n",
    "from tqdm import tqdm"
   ]
  },
  {
   "cell_type": "code",
   "execution_count": 32,
   "id": "25e0edaf-994a-4f66-a322-ad36f27c52c8",
   "metadata": {},
   "outputs": [
    {
     "name": "stderr",
     "output_type": "stream",
     "text": [
      "100%|██████████████████████████████████████| 100/100 [00:00<00:00, 30954.27it/s]\n",
      "100%|██████████████████████████████████████| 100/100 [00:00<00:00, 19529.28it/s]\n",
      "100%|███████████████████████████████████████| 100/100 [00:00<00:00, 2702.76it/s]\n",
      "100%|████████████████████████████████████████| 100/100 [00:00<00:00, 279.72it/s]\n",
      "100%|█████████████████████████████████████████| 100/100 [00:04<00:00, 24.46it/s]\n",
      "100%|█████████████████████████████████████████| 100/100 [00:45<00:00,  2.21it/s]\n",
      "100%|█████████████████████████████████████████| 100/100 [07:06<00:00,  4.27s/it]\n"
     ]
    }
   ],
   "source": [
    "l = 0.1\n",
    "\n",
    "ms = np.arange(2, 9)\n",
    "pi_est = np.zeros_like(ms, dtype=float)\n",
    "pi_est_err = np.zeros_like(ms, dtype=float)\n",
    "\n",
    "measure_num = 100\n",
    "Nb = 10000000\n",
    "\n",
    "for i, m in enumerate(ms):\n",
    "    \n",
    "    m_data = np.zeros(measure_num)\n",
    "    \n",
    "    for j in tqdm(range(measure_num)):\n",
    "        \n",
    "        n = 10 ** m\n",
    "        poss = np.random.rand(n) * 0.5\n",
    "        \n",
    "        # sample uniform theta using gaussian\n",
    "        \n",
    "        xs = np.random.normal(0, 1, n)\n",
    "        ys = np.random.normal(0, 1, n)\n",
    "\n",
    "        # calculate cos values\n",
    "        \n",
    "        coss = np.abs(xs) / np.sqrt(xs ** 2 + ys ** 2)\n",
    "        \n",
    "        #calculate the left point of bars\n",
    "        \n",
    "        left = poss - coss * 0.5 * l\n",
    "        \n",
    "        count = np.sum((left < 0))\n",
    "        rat = count / len(left)\n",
    "        \n",
    "        m_data[j] = 2.0 * l / rat\n",
    "\n",
    "    \n",
    "    # use bootstrap resampling\n",
    "\n",
    "    x_bar = np.mean(m_data)\n",
    "    rB = np.random.choice(m_data, (measure_num, Nb))\n",
    "    xB = np.mean(rB, axis = 0)\n",
    "    xB_bar = np.mean(xB)\n",
    "\n",
    "    pi_est[i] = 2*x_bar - xB_bar\n",
    "    pi_est_err[i] = np.std(xB) * np.sqrt(measure_num / (measure_num - 1))"
   ]
  },
  {
   "cell_type": "code",
   "execution_count": 69,
   "id": "8c8db327-d1d8-4000-93e2-8e3d18e8c1f2",
   "metadata": {},
   "outputs": [
    {
     "data": {
      "image/png": "[encoded data removed]",
      "text/plain": [
       "<Figure size 640x480 with 1 Axes>"
      ]
     },
     "metadata": {},
     "output_type": "display_data"
    },
    {
     "name": "stdout",
     "output_type": "stream",
     "text": [
      "chi^2 / DOF : 1.3861068758438744\n"
     ]
    }
   ],
   "source": [
    "func = lambda x, a0, a1 : a0 + a1 * x\n",
    "\n",
    "pis_true = np.full(len(ms), np.pi)\n",
    "\n",
    "plot_ys = np.log(np.abs(pi_est - pis_true))\n",
    "plot_yerrs = pi_est_err / np.abs(pi_est-np.pi)\n",
    "\n",
    "popt, pcov = curve_fit(func, ms, plot_ys, sigma = plot_yerrs, absolute_sigma = True)\n",
    "a0opt, a1opt = popt\n",
    "perr = np.sqrt(np.diag(pcov))\n",
    "\n",
    "\n",
    "plt.errorbar(ms, plot_ys, yerr = plot_yerrs, fmt = 'ko')\n",
    "plt.plot(ms, func(ms, a0opt, a1opt), linestyle='--')\n",
    "plt.xlabel('log10(# of Sample)')\n",
    "plt.ylabel('log(pi_est - pi)')\n",
    "\n",
    "plt.savefig(\"3\")\n",
    "plt.show()\n",
    "\n",
    "print(f\"chi^2 / DOF : {np.sum((plot_ys - func(ms, a0opt, a1opt))**2) / (len(ms) - 1)}\")"
   ]
  },
  {
   "cell_type": "code",
   "execution_count": 62,
   "id": "4106293f-6645-4414-8eca-4949f46b5989",
   "metadata": {},
   "outputs": [
    {
     "name": "stdout",
     "output_type": "stream",
     "text": [
      "4.032477002081531 +/- 0.3228029167905084\n",
      "3.1840243551287055 +/- 0.03437220346028788\n",
      "3.1559110638655614 +/- 0.012817043559556424\n",
      "3.1442492990359305 +/- 0.004033501846319723\n",
      "3.1401608822702447 +/- 0.0012256167129386436\n",
      "3.1405453327946264 +/- 0.00042865137432105863\n",
      "3.141628770330914 +/- 0.0001365452627180557\n"
     ]
    }
   ],
   "source": [
    "for i, pi in enumerate(pi_est):\n",
    "    print(f\"{pi_est[i]} +/- {pi_est_err[i]}\")"
   ]
  },
  {
   "cell_type": "code",
   "execution_count": 74,
   "id": "662f7c57-0261-457f-8beb-3e891cfea017",
   "metadata": {},
   "outputs": [
    {
     "name": "stdout",
     "output_type": "stream",
     "text": [
      "2.2105267574819676 +/- 0.5023026104943197\n",
      "-1.3479955024788868 +/- 0.10450076438166823\n"
     ]
    }
   ],
   "source": [
    "for i, a in enumerate(popt):\n",
    "    print(f\"{popt[i]} +/- {perr[i]}\")"
   ]
  },
  {
   "cell_type": "code",
   "execution_count": null,
   "id": "08e7f389-9108-46a7-8ac5-7906aa73bd5e",
   "metadata": {},
   "outputs": [],
   "source": []
  },
  {
   "cell_type": "code",
   "execution_count": null,
   "id": "fab2b01d-f85f-477a-bd06-7afbda3c5a7f",
   "metadata": {},
   "outputs": [],
   "source": []
  }
 ],
 "metadata": {
  "kernelspec": {
   "display_name": "Science",
   "language": "python",
   "name": "science"
  },
  "language_info": {
   "codemirror_mode": {
    "name": "ipython",
    "version": 3
   },
   "file_extension": ".py",
   "mimetype": "text/x-python",
   "name": "python",
   "nbconvert_exporter": "python",
   "pygments_lexer": "ipython3",
   "version": "3.12.4"
  }
 },
 "nbformat": 4,
 "nbformat_minor": 5
}
