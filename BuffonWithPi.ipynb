{
 "cells": [
  {
   "cell_type": "code",
   "execution_count": 69,
   "id": "fa118272-1e25-44a3-b73f-bcb138533a78",
   "metadata": {},
   "outputs": [],
   "source": [
    "import numpy as np\n",
    "import matplotlib.pyplot as plt\n",
    "from scipy.optimize import curve_fit\n",
    "\n",
    "from tqdm import tqdm"
   ]
  },
  {
   "cell_type": "code",
   "execution_count": 71,
   "id": "25e0edaf-994a-4f66-a322-ad36f27c52c8",
   "metadata": {},
   "outputs": [
    {
     "name": "stderr",
     "output_type": "stream",
     "text": [
      "100%|██████████████████████████████████████| 100/100 [00:00<00:00, 35463.80it/s]\n",
      "100%|██████████████████████████████████████| 100/100 [00:00<00:00, 32909.41it/s]\n",
      "100%|███████████████████████████████████████| 100/100 [00:00<00:00, 5583.55it/s]\n",
      "100%|████████████████████████████████████████| 100/100 [00:00<00:00, 599.03it/s]\n",
      "100%|█████████████████████████████████████████| 100/100 [00:01<00:00, 57.14it/s]\n",
      "100%|█████████████████████████████████████████| 100/100 [00:21<00:00,  4.55it/s]\n",
      "100%|█████████████████████████████████████████| 100/100 [03:35<00:00,  2.16s/it]\n"
     ]
    }
   ],
   "source": [
    "l = 0.1\n",
    "\n",
    "ms = np.arange(2, 9)\n",
    "pi_est = np.zeros_like(ms, dtype=float)\n",
    "pi_est_err = np.zeros_like(ms, dtype=float)\n",
    "\n",
    "measure_num = 100\n",
    "Nb = 10000000\n",
    "\n",
    "for i, m in enumerate(ms):\n",
    "    \n",
    "    m_data = np.zeros(measure_num)\n",
    "    \n",
    "    for j in tqdm(range(measure_num)):\n",
    "        \n",
    "        n = 10 ** m\n",
    "        poss = np.random.rand(n) * 0.5\n",
    "        \n",
    "        # sample uniform theta\n",
    "        \n",
    "        thetas = np.random.rand(n) * np.pi / 2\n",
    "\n",
    "        # calculate cos values\n",
    "        \n",
    "        coss = np.cos(thetas)\n",
    "        \n",
    "        #calculate the left point of bars\n",
    "        \n",
    "        left = poss - coss * 0.5 * l\n",
    "        \n",
    "        count = np.sum((left < 0))\n",
    "        rat = count / len(left)\n",
    "        \n",
    "        m_data[j] = 2.0 * l / rat\n",
    "\n",
    "    \n",
    "    # use bootstrap resampling\n",
    "\n",
    "    x_bar = np.mean(m_data)\n",
    "    rB = np.random.choice(m_data, (measure_num, Nb))\n",
    "    xB = np.mean(rB, axis = 0)\n",
    "    xB_bar = np.mean(xB)\n",
    "\n",
    "    pi_est[i] = 2*x_bar - xB_bar\n",
    "    pi_est_err[i] = np.std(xB) * np.sqrt(measure_num / (measure_num - 1))"
   ]
  },
  {
   "cell_type": "code",
   "execution_count": 109,
   "id": "8c8db327-d1d8-4000-93e2-8e3d18e8c1f2",
   "metadata": {},
   "outputs": [
    {
     "data": {
      "image/png": "[encoded data removed]",
      "text/plain": [
       "<Figure size 640x480 with 1 Axes>"
      ]
     },
     "metadata": {},
     "output_type": "display_data"
    },
    {
     "name": "stdout",
     "output_type": "stream",
     "text": [
      "chi^2 / DOF : 0.6820029573714789\n"
     ]
    }
   ],
   "source": [
    "func = lambda x, a0, a1 : a0 + a1 * x\n",
    "\n",
    "pis_true = np.full(len(ms), np.pi)\n",
    "\n",
    "plot_ys = np.log(np.abs(pi_est - pis_true))\n",
    "plot_yerrs = pi_est_err / np.abs(pi_est-np.pi)\n",
    "\n",
    "popt, pcov = curve_fit(func, ms, plot_ys, sigma = plot_yerrs, absolute_sigma = True)\n",
    "a0opt, a1opt = popt\n",
    "perr = np.sqrt(np.diag(pcov))\n",
    "\n",
    "\n",
    "\n",
    "plt.errorbar(ms, plot_ys, yerr = plot_yerrs, fmt = 'ko')\n",
    "plt.plot(ms, func(ms, a0opt, a1opt), linestyle='--')\n",
    "plt.xlabel('log10(# of Sample)')\n",
    "plt.ylabel('log(pi_est - pi)')\n",
    "\n",
    "plt.savefig(\"2\")\n",
    "plt.show()\n",
    "\n",
    "print(f\"chi^2 / DOF : {np.sum((plot_ys - func(ms, a0opt, a1opt))**2) / (len(ms) - 1)}\")"
   ]
  },
  {
   "cell_type": "code",
   "execution_count": 102,
   "id": "4106293f-6645-4414-8eca-4949f46b5989",
   "metadata": {},
   "outputs": [
    {
     "name": "stdout",
     "output_type": "stream",
     "text": [
      "4.17400789465812 +/- 0.3073432983024348\n",
      "3.1699059186660254 +/- 0.040152622851650006\n",
      "3.156959760941199 +/- 0.013375439960737713\n",
      "3.148670849865311 +/- 0.004073610075968113\n",
      "3.1405689956202076 +/- 0.0011832205470833188\n",
      "3.1414368714320666 +/- 0.0003618494815098399\n",
      "3.1416489922099666 +/- 0.00012038462569818556\n"
     ]
    }
   ],
   "source": [
    "for i, pi in enumerate(pi_est):\n",
    "    print(f\"{pi_est[i]} +/- {pi_est_err[i]}\")"
   ]
  },
  {
   "cell_type": "code",
   "execution_count": 107,
   "id": "662f7c57-0261-457f-8beb-3e891cfea017",
   "metadata": {},
   "outputs": [
    {
     "name": "stdout",
     "output_type": "stream",
     "text": [
      "3.363238913457698 +/- 0.5339177049078878\n",
      "-1.7101332664839055 +/- 0.1583986609168152\n"
     ]
    }
   ],
   "source": [
    "for i, a in enumerate(popt):\n",
    "    print(f\"{popt[i]} +/- {perr[i]}\")"
   ]
  },
  {
   "cell_type": "code",
   "execution_count": null,
   "id": "08e7f389-9108-46a7-8ac5-7906aa73bd5e",
   "metadata": {},
   "outputs": [],
   "source": []
  },
  {
   "cell_type": "code",
   "execution_count": null,
   "id": "fab2b01d-f85f-477a-bd06-7afbda3c5a7f",
   "metadata": {},
   "outputs": [],
   "source": []
  }
 ],
 "metadata": {
  "kernelspec": {
   "display_name": "Science",
   "language": "python",
   "name": "science"
  },
  "language_info": {
   "codemirror_mode": {
    "name": "ipython",
    "version": 3
   },
   "file_extension": ".py",
   "mimetype": "text/x-python",
   "name": "python",
   "nbconvert_exporter": "python",
   "pygments_lexer": "ipython3",
   "version": "3.12.4"
  }
 },
 "nbformat": 4,
 "nbformat_minor": 5
}
